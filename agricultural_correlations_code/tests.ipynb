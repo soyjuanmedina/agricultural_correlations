{
 "cells": [
  {
   "cell_type": "code",
   "execution_count": 19,
   "metadata": {
    "collapsed": false
   },
   "outputs": [],
   "source": [
    "from spyre import server\n",
    "\n",
    "class SimpleApp(server.App):\n",
    "\ttitle = \"Simple App\"\n",
    "\tinputs = [{\n",
    "\t\t\"type\": \"text\",\n",
    "\t\t\"key\": \"words\",\n",
    "\t\t\"label\": \"write words here\",\n",
    "\t\t\"value\": \"hello world\", \n",
    "\t\t\"action_id\": \"simple_html_output\"\n",
    "\t}]\n",
    "\n",
    "\toutputs = [{\n",
    "\t\t\"type\": \"html\",\n",
    "\t\t\"id\": \"simple_html_output\"\n",
    "\t}]\n",
    "\n",
    "\tdef getHTML(self, params):\n",
    "\t\twords = params[\"words\"]\n",
    "\t\treturn \"Here's what you wrote in the textbox: <b>%s</b>\" % words\n",
    "\n",
    "app = SimpleApp()\n",
    "app.launch()"
   ]
  },
  {
   "cell_type": "code",
   "execution_count": null,
   "metadata": {
    "collapsed": true
   },
   "outputs": [],
   "source": []
  }
 ],
 "metadata": {
  "kernelspec": {
   "display_name": "Python 3",
   "language": "python",
   "name": "python3"
  },
  "language_info": {
   "codemirror_mode": {
    "name": "ipython",
    "version": 3
   },
   "file_extension": ".py",
   "mimetype": "text/x-python",
   "name": "python",
   "nbconvert_exporter": "python",
   "pygments_lexer": "ipython3",
   "version": "3.6.0"
  }
 },
 "nbformat": 4,
 "nbformat_minor": 2
}
