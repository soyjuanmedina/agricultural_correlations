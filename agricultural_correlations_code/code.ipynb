{
 "cells": [
  {
   "cell_type": "code",
   "execution_count": null,
   "metadata": {
    "collapsed": false
   },
   "outputs": [],
   "source": [
    "# Necesary imports\n",
    "import os\n",
    "import pandas as pd\n",
    "import matplotlib.pyplot as plt\n",
    "import numpy as np\n",
    "import json\n",
    "from collections import OrderedDict\n",
    "import urllib.request as urllib2\n",
    "from pyjstat import pyjstat"
   ]
  },
  {
   "cell_type": "code",
   "execution_count": null,
   "metadata": {
    "collapsed": false
   },
   "outputs": [],
   "source": [
    "# Ask for the first filter\n",
    "print('Chose a type of data you want to consult')\n",
    "x = 0\n",
    "for root, dirs, files in os.walk(\"./databases\", topdown=False):\n",
    "    for name in dirs:\n",
    "        x = x + 1\n",
    "        print(x, name)\n",
    "\n",
    "sel = input('Input your selection: ')\n",
    "folder = dirs[int(sel) - 1]\n",
    "path = './databases/' + folder + '/'"
   ]
  },
  {
   "cell_type": "code",
   "execution_count": null,
   "metadata": {
    "collapsed": false
   },
   "outputs": [],
   "source": [
    "# Ask for the databases used for chart\n",
    "\n",
    "# Creating the dict to storage all databases\n",
    "databases = dict()\n",
    "\n",
    "# Create the variables to the x axis\n",
    "first_year = 5000\n",
    "last_year = 0\n",
    "\n",
    "# Creating the data for each database\n",
    "for y in range(1, 3):\n",
    "    \n",
    "    # Creating the dict to storage each database\n",
    "    databases[y] = dict()\n",
    "    \n",
    "    # Asked for the data to show\n",
    "    x = 0\n",
    "    printed_databases = []\n",
    "    print('Select the two databases contains data you want compare')\n",
    "    for root, dirs, files in os.walk(path, topdown=False):\n",
    "        for name in files:\n",
    "            printed_databases.insert(len(printed_databases), name)\n",
    "            x += 1\n",
    "            data_file = path+name\n",
    "            data = pd.read_json(data_file, orient='columns')\n",
    "            print(x, data['dataset']['label'])\n",
    "    \n",
    "    # Storage the data for each database\n",
    "    databases[y]['number'] = eval(input('Select the database ' + str(y) + ': '))\n",
    "    databases[y]['name'] = files[int(databases[y]['number']) - 1]\n",
    "    databases[y]['name_to_url'] = files[int(databases[y]['number']) - 1].split('.')[0]\n",
    "    databases[y]['path'] = path+databases[y]['name']\n",
    "    databases[y]['data'] = pd.read_json(databases[y]['path'], orient='columns')\n",
    "    databases[y]['years'] = list(databases[y]['data']['dataset']['dimension']['Year']['category']['label'].values())\n",
    "    databases[y]['index'] = list(databases[y]['data']['dataset']['dimension']['Statistic']['category']['index'].keys())[0]\n",
    "    databases[y]['unit'] = databases[y]['data']['dataset']['dimension']['Statistic']['category']['unit'][databases[y]['index']]['base']\n",
    "    \n",
    "    # Compare the year for the x axis\n",
    "    first_year_database = int(databases[y]['years'][0])\n",
    "    last_year_database = int(databases[y]['years'][-1])\n",
    "    if first_year_database < first_year:\n",
    "        first_year = first_year_database\n",
    "    if last_year_database > last_year:\n",
    "        last_year = last_year_database    "
   ]
  },
  {
   "cell_type": "code",
   "execution_count": null,
   "metadata": {
    "collapsed": false
   },
   "outputs": [],
   "source": [
    "y = 1\n",
    "for database in databases:\n",
    "    dimension2 =  list(databases[y]['data']['dataset']['dimension'].keys())[0]    \n",
    "    question = 'Chose the ' + dimension2 + ' for your '  + str(y) + ' database'\n",
    "    print(question)\n",
    "    \n",
    "    # Print options\n",
    "    options = list(databases[y]['data']['dataset']['dimension'][dimension2]['category']['label'].values())\n",
    "    x = 0\n",
    "    for option in options:\n",
    "        x = x + 1\n",
    "        print(x, option)\n",
    "        \n",
    "    # Capturing the option\n",
    "    databases[y]['option'] = eval(input('Chose the ' + dimension2 + ': '))\n",
    "    \n",
    "    # Capturing the option name\n",
    "    databases[y]['option_name'] = list(databases[y]['data']['dataset']['dimension'][dimension2]['category']['label'].values())[databases[y]['option']-1]\n",
    "\n",
    "    # Obtain the url to read the dataset from CSO\n",
    "    databases[y]['url'] = 'http://www.cso.ie/StatbankServices/StatbankServices.svc/jsonservice/responseinstance/'+ databases[y]['name_to_url']\n",
    "    \n",
    "    # Read the dataset\n",
    "    jsonurl_data = json.load(urllib2.urlopen(databases[y]['url']), object_pairs_hook=OrderedDict)\n",
    "    jsonurl_ddbb = pyjstat.from_json_stat(jsonurl_data)\n",
    "\n",
    "    # Get the first result, since we're using only one input dataset\n",
    "    jsonurl_dataset = jsonurl_ddbb[0]\n",
    "\n",
    "    # Filter the dataset to the selected option\n",
    "    databases[y]['dataset_filter_data'] = jsonurl_dataset[jsonurl_dataset[dimension2] == databases[y]['option_name']]\n",
    "    \n",
    "    y += 1\n"
   ]
  },
  {
   "cell_type": "code",
   "execution_count": null,
   "metadata": {
    "collapsed": true
   },
   "outputs": [],
   "source": []
  },
  {
   "cell_type": "code",
   "execution_count": null,
   "metadata": {
    "collapsed": false
   },
   "outputs": [],
   "source": [
    "import textwrap as tw\n",
    "\n",
    "# Obtain data to first axis y\n",
    "values1 = databases[1]['dataset_filter_data']['value']\n",
    "min_axis_y1 = values1.min() * 0.95\n",
    "max_axis_y1 = values1.max() * 1.05\n",
    "\n",
    "# Obtain data to second axis y\n",
    "values2 = databases[2]['dataset_filter_data']['value']\n",
    "min_axis_y2 = values2.min() * 0.95\n",
    "max_axis_y2 = values2.max() * 1.05\n",
    "\n",
    "# Start the sesion for matplotlib \n",
    "plt.ion()\n",
    "\n",
    "\n",
    "# Create the x axis\n",
    "plt.xlabel('Years')\n",
    "plt.xlim(first_year, last_year)\n",
    "\n",
    "# Create the first y axis\n",
    "plt.ylabel(databases[1]['unit'])\n",
    "plt.ylim(min_axis_y1, max_axis_y1)\n",
    "plt.plot(databases[1]['years'], values1, color=\"blue\", linewidth=2.5, linestyle=\"-\", label=databases[1]['option_name'])\n",
    "plt.legend(loc='upper left', frameon=True)\n",
    "\n",
    "# Create the second y axis\n",
    "plt.twinx()  \n",
    "plt.ylabel(databases[2]['unit'])\n",
    "plt.ylim(min_axis_y2, max_axis_y2)\n",
    "plt.plot(databases[2]['years'], values2, color=\"red\",  linewidth=2.5, linestyle=\"-\", label=databases[2]['option_name'])\n",
    "plt.legend(loc='upper right', frameon=True)\n",
    "\n",
    "comment2_txt = databases[1]['data']['dataset']['label'] + \" (blue)\" + ' compare to ' + databases[2]['data']['dataset']['label'] + \" (red)\"\n",
    "fig_txt = tw.fill(tw.dedent(comment2_txt.rstrip() ), width=80)\n",
    "\n",
    "# The YAxis value is -0.07 to push the text down slightly\n",
    "plt.figtext(0.5, -0.2, fig_txt, horizontalalignment='center',\n",
    "            fontsize=12, multialignment='left',\n",
    "            bbox=dict(boxstyle=\"round\", facecolor='#D8D8D8',\n",
    "                      ec=\"0.5\", pad=0.5, alpha=1), fontweight='bold')"
   ]
  },
  {
   "cell_type": "code",
   "execution_count": null,
   "metadata": {
    "collapsed": true
   },
   "outputs": [],
   "source": []
  }
 ],
 "metadata": {
  "kernelspec": {
   "display_name": "Python 3",
   "language": "python",
   "name": "python3"
  },
  "language_info": {
   "codemirror_mode": {
    "name": "ipython",
    "version": 3
   },
   "file_extension": ".py",
   "mimetype": "text/x-python",
   "name": "python",
   "nbconvert_exporter": "python",
   "pygments_lexer": "ipython3",
   "version": "3.6.0"
  }
 },
 "nbformat": 4,
 "nbformat_minor": 2
}
